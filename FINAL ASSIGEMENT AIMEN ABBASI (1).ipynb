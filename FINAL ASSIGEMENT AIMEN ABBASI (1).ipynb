{
 "cells": [
  {
   "cell_type": "code",
   "execution_count": null,
   "id": "d31b6154",
   "metadata": {},
   "outputs": [],
   "source": [
    "### cubic interpolation using Scipy (scientific python library) library"
   ]
  },
  {
   "cell_type": "code",
   "execution_count": 7,
   "id": "9cda150b",
   "metadata": {},
   "outputs": [],
   "source": [
    "import numpy as np \n",
    "import matplotlib.pyplot as plt\n",
    "import scipy as sp"
   ]
  },
  {
   "cell_type": "code",
   "execution_count": null,
   "id": "98dc4ab5",
   "metadata": {},
   "outputs": [],
   "source": [
    "# Optimization "
   ]
  },
  {
   "cell_type": "code",
   "execution_count": 8,
   "id": "505dd0e9",
   "metadata": {},
   "outputs": [],
   "source": [
    "from scipy.optimize import minimize "
   ]
  },
  {
   "cell_type": "markdown",
   "id": "e4e5c1c3",
   "metadata": {},
   "source": [
    "### Question 1 \n",
    " \n",
    "Minimze $f(x) = (x-3)^2$ "
   ]
  },
  {
   "cell_type": "code",
   "execution_count": 9,
   "id": "17f4cab3",
   "metadata": {},
   "outputs": [],
   "source": [
    "def f(x):\n",
    "    return (x-3)**2\n",
    "res = minimize(f, 2)  #(function,initial guess) "
   ]
  },
  {
   "cell_type": "raw",
   "id": "c2fc63b0",
   "metadata": {},
   "source": [
    "res"
   ]
  },
  {
   "cell_type": "code",
   "execution_count": 10,
   "id": "67839d6f",
   "metadata": {},
   "outputs": [
    {
     "data": {
      "text/plain": [
       "array([2.99999999])"
      ]
     },
     "execution_count": 10,
     "metadata": {},
     "output_type": "execute_result"
    }
   ],
   "source": [
    "res.x\n"
   ]
  },
  {
   "cell_type": "code",
   "execution_count": null,
   "id": "b0a90daa",
   "metadata": {},
   "outputs": [],
   "source": [
    "### Question 2\n",
    "\n",
    "Minimize $f(x,y) = (x-1)^2+(y-2.5)^2$\n",
    "Subject to \n",
    "\n",
    "$x-2y+2 \\ge 0$ <br>\n",
    "$-x-2y+6 \\ge 0$ <br>\n",
    "$-x+2y+2 \\ge 0$ <br>\n",
    "$x \\ge 0$ <br>\n",
    "$y \\ge 0$\n",
    "\n",
    "- 2D function in vector x\n",
    "- Constraintss must be specified as $g_i(x) \\ge 0$\n",
    "- Bounds specified as rectangular "
   ]
  },
  {
   "cell_type": "code",
   "execution_count": 11,
   "id": "57c75128",
   "metadata": {},
   "outputs": [],
   "source": [
    "f = lambda x : (x[0] - 1)**2 + (x[1] - 2.5)**2 \n",
    "# cons must be in tuples of dictionaries form \n",
    "cons = ({'type':'ineq','fun':lambda x: x[0] - 2 * x[1] + 2 },\n",
    "       {'type':'ineq','fun':lambda x: -x[0] - 2 * x[1] + 6 },\n",
    "       {'type':'ineq','fun':lambda x: -x[0] + 2 * x[1] + 2 })\n",
    "bnds = ((0,None),(0,None))  \n",
    "# means x goes from 0 to infinity as y also goes from 0 to infinity\n",
    "\n",
    "res = minimize(f,(2,0),bounds=bnds,constraints=cons)"
   ]
  },
  {
   "cell_type": "code",
   "execution_count": 12,
   "id": "9415d595",
   "metadata": {},
   "outputs": [
    {
     "data": {
      "text/plain": [
       "array([1.4, 1.7])"
      ]
     },
     "execution_count": 12,
     "metadata": {},
     "output_type": "execute_result"
    }
   ],
   "source": [
    "res.x"
   ]
  },
  {
   "cell_type": "code",
   "execution_count": null,
   "id": "e082a453",
   "metadata": {},
   "outputs": [],
   "source": [
    "### So here's why it is returning as an array because if we have function of multiple variables it will return it in an array by defualt"
   ]
  },
  {
   "cell_type": "code",
   "execution_count": 13,
   "id": "ad33c818",
   "metadata": {},
   "outputs": [
    {
     "ename": "SyntaxError",
     "evalue": "invalid syntax (2070243660.py, line 2)",
     "output_type": "error",
     "traceback": [
      "\u001b[0;36m  File \u001b[0;32m\"/var/folders/y4/qdwtwnqx71l51dtpzxylx43h0000gn/T/ipykernel_820/2070243660.py\"\u001b[0;36m, line \u001b[0;32m2\u001b[0m\n\u001b[0;31m    minimize? # for details\u001b[0m\n\u001b[0m            ^\u001b[0m\n\u001b[0;31mSyntaxError\u001b[0m\u001b[0;31m:\u001b[0m invalid syntax\n"
     ]
    }
   ],
   "source": [
    "# use \n",
    "minimize? # for details"
   ]
  },
  {
   "cell_type": "code",
   "execution_count": null,
   "id": "5fac615f",
   "metadata": {},
   "outputs": [],
   "source": [
    "# Interpolation\n",
    "\n",
    "Suppose you have the following data "
   ]
  },
  {
   "cell_type": "code",
   "execution_count": 14,
   "id": "4f38b830",
   "metadata": {},
   "outputs": [
    {
     "data": {
      "text/plain": [
       "<matplotlib.collections.PathCollection at 0x7f7d60a8f160>"
      ]
     },
     "execution_count": 14,
     "metadata": {},
     "output_type": "execute_result"
    },
    {
     "data": {
      "image/png": "[encoded data removed]",
      "text/plain": [
       "<Figure size 432x288 with 1 Axes>"
      ]
     },
     "metadata": {
      "needs_background": "light"
     },
     "output_type": "display_data"
    }
   ],
   "source": [
    "x = np.linspace(0,10,10)\n",
    "y = x**2 * np.sin(x)\n",
    "plt.scatter(x,y)"
   ]
  },
  {
   "cell_type": "code",
   "execution_count": 15,
   "id": "7be53d69",
   "metadata": {},
   "outputs": [],
   "source": [
    "from scipy.interpolate import interp1d"
   ]
  },
  {
   "cell_type": "code",
   "execution_count": 16,
   "id": "5520145c",
   "metadata": {},
   "outputs": [],
   "source": [
    "f  = interp1d(x,y,kind = 'cubic')\n",
    "x_pred = np.linspace(0,10,100)\n",
    "y_pred = f(x_pred)"
   ]
  },
  {
   "cell_type": "code",
   "execution_count": 17,
   "id": "81739f94",
   "metadata": {},
   "outputs": [
    {
     "data": {
      "text/plain": [
       "[<matplotlib.lines.Line2D at 0x7f7d60b53e80>]"
      ]
     },
     "execution_count": 17,
     "metadata": {},
     "output_type": "execute_result"
    },
    {
     "data": {
      "image/png": "[encoded data removed]",
      "text/plain": [
       "<Figure size 432x288 with 1 Axes>"
      ]
     },
     "metadata": {
      "needs_background": "light"
     },
     "output_type": "display_data"
    }
   ],
   "source": [
    "plt.plot(x_pred,y_pred)"
   ]
  },
  {
   "cell_type": "code",
   "execution_count": 18,
   "id": "e71ddd5c",
   "metadata": {},
   "outputs": [
    {
     "data": {
      "text/plain": [
       "<matplotlib.collections.PathCollection at 0x7f7d60c37700>"
      ]
     },
     "execution_count": 18,
     "metadata": {},
     "output_type": "execute_result"
    },
    {
     "data": {
      "image/png": "[encoded data removed]",
      "text/plain": [
       "<Figure size 432x288 with 1 Axes>"
      ]
     },
     "metadata": {
      "needs_background": "light"
     },
     "output_type": "display_data"
    }
   ],
   "source": [
    "x_data = np.linspace(0,10,10)\n",
    "y_data = 3 * x_data**2 +2\n",
    "plt.scatter(x_data,y_data)"
   ]
  },
  {
   "cell_type": "code",
   "execution_count": 19,
   "id": "d711227f",
   "metadata": {},
   "outputs": [],
   "source": [
    "from scipy.optimize import curve_fit\n",
    "\n",
    "def func(x,a,b):\n",
    "    return a*x**2 + b\n",
    "\n",
    "popt, pcov = curve_fit(func, x_data, y_data, p0=(1,1))"
   ]
  },
  {
   "cell_type": "code",
   "execution_count": 20,
   "id": "e7b8e9c8",
   "metadata": {},
   "outputs": [
    {
     "data": {
      "text/plain": [
       "array([3., 2.])"
      ]
     },
     "execution_count": 20,
     "metadata": {},
     "output_type": "execute_result"
    }
   ],
   "source": [
    "popt"
   ]
  },
  {
   "cell_type": "code",
   "execution_count": null,
   "id": "45794cb2",
   "metadata": {},
   "outputs": [],
   "source": [
    "# Calculus "
   ]
  },
  {
   "cell_type": "code",
   "execution_count": null,
   "id": "855bcec7",
   "metadata": {},
   "outputs": [],
   "source": [
    "# Differentiation "
   ]
  },
  {
   "cell_type": "code",
   "execution_count": 21,
   "id": "984d9873",
   "metadata": {},
   "outputs": [],
   "source": [
    "import numpy as np\n",
    "from scipy.misc import derivative"
   ]
  },
  {
   "cell_type": "code",
   "execution_count": 22,
   "id": "f3b2705b",
   "metadata": {},
   "outputs": [],
   "source": [
    "def f(x):\n",
    "    return x**2 * np.sin(2*x) * np.exp(-x)\n",
    "x = np.linspace(0,1,100)"
   ]
  },
  {
   "cell_type": "code",
   "execution_count": 23,
   "id": "323fcc6a",
   "metadata": {},
   "outputs": [
    {
     "data": {
      "text/plain": [
       "[<matplotlib.lines.Line2D at 0x7f7d60d27ca0>]"
      ]
     },
     "execution_count": 23,
     "metadata": {},
     "output_type": "execute_result"
    },
    {
     "data": {
      "image/png": "[encoded data removed]",
      "text/plain": [
       "<Figure size 432x288 with 1 Axes>"
      ]
     },
     "metadata": {
      "needs_background": "light"
     },
     "output_type": "display_data"
    }
   ],
   "source": [
    "plt.plot(x,f(x))\n",
    "plt.plot(x, derivative(f , x , dx=1e-6))\n",
    "\n",
    "# higher order derivative(2nd order) \n",
    "plt.plot(x, derivative(f, x, dx=1e-6,n=2)) "
   ]
  },
  {
   "cell_type": "code",
   "execution_count": null,
   "id": "e6251d02",
   "metadata": {},
   "outputs": [],
   "source": [
    "# Integration"
   ]
  },
  {
   "cell_type": "code",
   "execution_count": null,
   "id": "39033cf7",
   "metadata": {},
   "outputs": [],
   "source": [
    "### Single Integrals \n",
    "\n",
    "$\\int_{0}^{1}x^2sin(2x)e^{-x}dx$"
   ]
  },
  {
   "cell_type": "code",
   "execution_count": 24,
   "id": "fb209fbe",
   "metadata": {},
   "outputs": [],
   "source": [
    "from scipy.integrate import quad \n",
    "integrand = lambda x : x**2 * np.sin(2*x) * np.exp(-x)\n",
    "integral , integral_error = quad(integrand, 0, 1)"
   ]
  },
  {
   "cell_type": "code",
   "execution_count": 25,
   "id": "a3d78442",
   "metadata": {},
   "outputs": [
    {
     "data": {
      "text/plain": [
       "0.14558175869954834"
      ]
     },
     "execution_count": 25,
     "metadata": {},
     "output_type": "execute_result"
    }
   ],
   "source": [
    "integral"
   ]
  },
  {
   "cell_type": "code",
   "execution_count": null,
   "id": "3ed4c622",
   "metadata": {},
   "outputs": [],
   "source": [
    "### Double Integrals \n",
    "\n",
    "$\\int_{0}^{1}\\int_{-x}^{x^2}sin(x+y^2)dydx$"
   ]
  },
  {
   "cell_type": "code",
   "execution_count": 26,
   "id": "98935788",
   "metadata": {},
   "outputs": [],
   "source": [
    "from scipy.integrate import dblquad\n",
    "import numpy as np\n",
    "\n",
    "integrand = lambda y, x: np.sin(x+y**2)\n",
    "lwr_y = lambda x: -x\n",
    "upr_y = lambda x: x**2\n",
    "integral , integral_error = dblquad(integrand, 0, 1, lwr_y, upr_y)"
   ]
  },
  {
   "cell_type": "code",
   "execution_count": 27,
   "id": "645b180c",
   "metadata": {},
   "outputs": [
    {
     "data": {
      "text/plain": [
       "0.5900903244088529"
      ]
     },
     "execution_count": 27,
     "metadata": {},
     "output_type": "execute_result"
    }
   ],
   "source": [
    "integral"
   ]
  },
  {
   "cell_type": "code",
   "execution_count": null,
   "id": "7ed85eb4",
   "metadata": {},
   "outputs": [],
   "source": [
    "### First order ODEs"
   ]
  },
  {
   "cell_type": "markdown",
   "id": "fa85c6dc",
   "metadata": {},
   "source": [
    "Solve the differential equation \n",
    "\n",
    "$v' - \\alpha v^2 + \\beta=0$ , $v(0)=0$ "
   ]
  },
  {
   "cell_type": "code",
   "execution_count": 28,
   "id": "d92c5ea8",
   "metadata": {},
   "outputs": [],
   "source": [
    "from scipy.integrate import odeint"
   ]
  },
  {
   "cell_type": "code",
   "execution_count": 29,
   "id": "9d1b87ed",
   "metadata": {},
   "outputs": [],
   "source": [
    "def dvdt(v,t):\n",
    "    return 3*v**2 - 5\n",
    "\n",
    "v0 = 0"
   ]
  },
  {
   "cell_type": "code",
   "execution_count": 30,
   "id": "fa71fe7b",
   "metadata": {},
   "outputs": [],
   "source": [
    "t = np.linspace(0,1,100)\n",
    "sol = odeint(dvdt,v0,t)"
   ]
  },
  {
   "cell_type": "code",
   "execution_count": 31,
   "id": "aaf0d023",
   "metadata": {},
   "outputs": [],
   "source": [
    "v_sol = sol.T[0]"
   ]
  },
  {
   "cell_type": "markdown",
   "id": "5624e4db",
   "metadata": {},
   "source": [
    "Plot"
   ]
  },
  {
   "cell_type": "code",
   "execution_count": 32,
   "id": "9cf0afe7",
   "metadata": {},
   "outputs": [
    {
     "data": {
      "text/plain": [
       "[<matplotlib.lines.Line2D at 0x7f92089b56d0>]"
      ]
     },
     "execution_count": 32,
     "metadata": {},
     "output_type": "execute_result"
    },
    {
     "data": {
      "image/png": "[encoded data removed]",
      "text/plain": [
       "<Figure size 432x288 with 1 Axes>"
      ]
     },
     "metadata": {
      "needs_background": "light"
     },
     "output_type": "display_data"
    }
   ],
   "source": [
    "plt.plot(t,v_sol)"
   ]
  },
  {
   "cell_type": "code",
   "execution_count": null,
   "id": "0c58690c",
   "metadata": {},
   "outputs": [],
   "source": [
    "# Linear Algebra Basics"
   ]
  },
  {
   "cell_type": "markdown",
   "id": "1e99666f",
   "metadata": {},
   "source": [
    "### triangular Matrices \n",
    "\n",
    "$\\begin{bmatrix}\n",
    "3 & 0 & 0 & 0\\\\\n",
    "2 & 1 & 0 & 0\\\\\n",
    "1 & 0 & 1 & 0\\\\\n",
    "1 & 1 & 1 & 1\\\\\n",
    "\\end{bmatrix}x=\\begin{bmatrix} 4 \\\\ 2 \\\\ 4 \\\\ 2 \\end{bmatrix}$"
   ]
  },
  {
   "cell_type": "code",
   "execution_count": 32,
   "id": "a91c8ba3",
   "metadata": {},
   "outputs": [
    {
     "data": {
      "text/plain": [
       "array([ 1.33333333, -0.66666667,  2.66666667, -1.33333333])"
      ]
     },
     "execution_count": 32,
     "metadata": {},
     "output_type": "execute_result"
    }
   ],
   "source": [
    "from scipy.linalg import solve_triangular\n",
    "\n",
    "a  = np.array([[3,0,0,0],\n",
    "               [2,1,0,0],\n",
    "               [1,0,1,0],\n",
    "               [1,1,1,1]])\n",
    "b = np.array([4,2,4,2])\n",
    "x = solve_triangular(a,b,lower=True)\n",
    "x"
   ]
  },
  {
   "cell_type": "code",
   "execution_count": null,
   "id": "5de67d24",
   "metadata": {},
   "outputs": [],
   "source": [
    "### Toeplitz Matrices (matrices with constant diagonals) \n",
    "\n",
    "$\\begin{bmatrix}\n",
    "1 & -1 & 2 & 3\\\\\n",
    "3 & 1 & -1 & 2\\\\\n",
    "6 & 3 & 1 & -1\\\\\n",
    "10 & 6 & 3 & 1\\\\\n",
    "\\end{bmatrix}x=\\begin{bmatrix} 1 \\\\ 2 \\\\ 2 \\\\ 5 \\end{bmatrix}$"
   ]
  },
  {
   "cell_type": "code",
   "execution_count": 33,
   "id": "6816af56",
   "metadata": {},
   "outputs": [
    {
     "data": {
      "text/plain": [
       "array([ 1.66666667, -1.        , -2.66666667,  2.33333333])"
      ]
     },
     "execution_count": 33,
     "metadata": {},
     "output_type": "execute_result"
    }
   ],
   "source": [
    "from scipy.linalg import solve_toeplitz, toeplitz\n",
    "\n",
    "c = np.array([1, 3, 6, 10])    # First column of T\n",
    "r = np.array([1, -1, -2, -3])  # First row of T\n",
    "b = np.array([1, 2, 2, 5])\n",
    "\n",
    "x = solve_toeplitz((c, r), b)\n",
    "x"
   ]
  },
  {
   "cell_type": "code",
   "execution_count": null,
   "id": "9d6db607",
   "metadata": {},
   "outputs": [],
   "source": [
    "# Newton's divided difference Interpolation "
   ]
  },
  {
   "cell_type": "code",
   "execution_count": 110,
   "id": "099d1b2f",
   "metadata": {},
   "outputs": [],
   "source": [
    "import pandas as pd\n",
    "def New_interpolation(x,y,xi):\n",
    "    n = len(x)   # number of datapoints \n",
    "    \n",
    "# initialize divided difference, f(x) values at different degrees, and error value\n",
    "\n",
    "    fdd = [[None for x in range(n)] for x in range(n)]\n",
    "    yint =[None for x in range(n)]\n",
    "    err = [None for x in range(n)]\n",
    "    \n",
    "# Finding divided difference\n",
    "    \n",
    "    for i in range(n):\n",
    "        fdd[i][0] = y[i]\n",
    "    for j in range(1,n):\n",
    "        for i in range(n-j):\n",
    "            fdd[i][j] = (fdd[i+1][j-1] - fdd[i][j-1])/(x[i+j]-x[i])\n",
    "# Printing fdd here\n",
    "\n",
    "    fdd_table = pd.DataFrame(fdd)\n",
    "    print(fdd_table)\n",
    "    \n",
    "# interpolating xi\n",
    "    xterm = 1\n",
    "    yint[0] = fdd[0][0]\n",
    "    for order in range(1,n):\n",
    "        xterm = xterm * (xi - x[order-1])\n",
    "        yint2 = yint[order-1] + fdd[0][order]*xterm\n",
    "        err[order-1] = yint2 - yint[order-1]\n",
    "        yint[order] = yint2\n",
    "        \n",
    "# returning a map for pandas dataframe\n",
    "    return map(lambda y,e : [y,e], yint, err)"
   ]
  },
  {
   "cell_type": "code",
   "execution_count": 111,
   "id": "98a793b7",
   "metadata": {},
   "outputs": [
    {
     "name": "stdout",
     "output_type": "stream",
     "text": [
      "          0         1         2         3         4         5         6  \\\n",
      "0  0.000000  0.462098 -0.051873  0.007866 -0.001956  0.000908 -0.000301   \n",
      "1  1.386294  0.202733 -0.020411  0.003953 -0.001502  0.000456 -0.000110   \n",
      "2  1.791759  0.182322 -0.024364  0.007709 -0.002186  0.000511       NaN   \n",
      "3  1.609438  0.255413 -0.059053  0.015361 -0.003464       NaN       NaN   \n",
      "4  1.098612  0.462099 -0.097456  0.020557       NaN       NaN       NaN   \n",
      "5  0.405464  0.510827 -0.087177       NaN       NaN       NaN       NaN   \n",
      "6  0.916291  0.336472       NaN       NaN       NaN       NaN       NaN   \n",
      "7  1.252763       NaN       NaN       NaN       NaN       NaN       NaN   \n",
      "\n",
      "          7  \n",
      "0  0.000076  \n",
      "1       NaN  \n",
      "2       NaN  \n",
      "3       NaN  \n",
      "4       NaN  \n",
      "5       NaN  \n",
      "6       NaN  \n",
      "7       NaN  \n"
     ]
    }
   ],
   "source": [
    "x = [1, 4, 6, 5, 3, 1.5, 2.5, 3.5]\n",
    "y = [0,1.3862944, 1.7917595, 1.6094379, 1.0986123, 0.4054641, 0.9162907, 1.2527630]\n",
    "a = New_interpolation(x,y,2)\n",
    "df = pd.DataFrame(a,columns=['f(x)','error'])"
   ]
  },
  {
   "cell_type": "code",
   "execution_count": 112,
   "id": "81154be5",
   "metadata": {},
   "outputs": [
    {
     "data": {
      "text/html": [
       "<div>\n",
       "<style scoped>\n",
       "    .dataframe tbody tr th:only-of-type {\n",
       "        vertical-align: middle;\n",
       "    }\n",
       "\n",
       "    .dataframe tbody tr th {\n",
       "        vertical-align: top;\n",
       "    }\n",
       "\n",
       "    .dataframe thead th {\n",
       "        text-align: right;\n",
       "    }\n",
       "</style>\n",
       "<table border=\"1\" class=\"dataframe\">\n",
       "  <thead>\n",
       "    <tr style=\"text-align: right;\">\n",
       "      <th></th>\n",
       "      <th>f(x)</th>\n",
       "      <th>error</th>\n",
       "    </tr>\n",
       "  </thead>\n",
       "  <tbody>\n",
       "    <tr>\n",
       "      <th>0</th>\n",
       "      <td>0.000000</td>\n",
       "      <td>0.462098</td>\n",
       "    </tr>\n",
       "    <tr>\n",
       "      <th>1</th>\n",
       "      <td>0.462098</td>\n",
       "      <td>0.103746</td>\n",
       "    </tr>\n",
       "    <tr>\n",
       "      <th>2</th>\n",
       "      <td>0.565844</td>\n",
       "      <td>0.062924</td>\n",
       "    </tr>\n",
       "    <tr>\n",
       "      <th>3</th>\n",
       "      <td>0.628769</td>\n",
       "      <td>0.046953</td>\n",
       "    </tr>\n",
       "    <tr>\n",
       "      <th>4</th>\n",
       "      <td>0.675722</td>\n",
       "      <td>0.021791</td>\n",
       "    </tr>\n",
       "    <tr>\n",
       "      <th>5</th>\n",
       "      <td>0.697513</td>\n",
       "      <td>-0.003616</td>\n",
       "    </tr>\n",
       "    <tr>\n",
       "      <th>6</th>\n",
       "      <td>0.693897</td>\n",
       "      <td>-0.000459</td>\n",
       "    </tr>\n",
       "    <tr>\n",
       "      <th>7</th>\n",
       "      <td>0.693438</td>\n",
       "      <td>NaN</td>\n",
       "    </tr>\n",
       "  </tbody>\n",
       "</table>\n",
       "</div>"
      ],
      "text/plain": [
       "       f(x)     error\n",
       "0  0.000000  0.462098\n",
       "1  0.462098  0.103746\n",
       "2  0.565844  0.062924\n",
       "3  0.628769  0.046953\n",
       "4  0.675722  0.021791\n",
       "5  0.697513 -0.003616\n",
       "6  0.693897 -0.000459\n",
       "7  0.693438       NaN"
      ]
     },
     "execution_count": 112,
     "metadata": {},
     "output_type": "execute_result"
    }
   ],
   "source": [
    "df"
   ]
  },
  {
   "cell_type": "code",
   "execution_count": 41,
   "id": "1fa38629",
   "metadata": {},
   "outputs": [],
   "source": [
    "x = [1, 4, 6, 5, 3, 1.5, 2.5, 3.5]\n",
    "n = len(x)\n",
    "lst = []\n",
    "for x in range(n):\n",
    "    a  = None\n",
    "    lst.append(a)"
   ]
  },
  {
   "cell_type": "code",
   "execution_count": 42,
   "id": "d6cc3ab7",
   "metadata": {},
   "outputs": [
    {
     "data": {
      "text/plain": [
       "[None, None, None, None, None, None, None, None]"
      ]
     },
     "execution_count": 42,
     "metadata": {},
     "output_type": "execute_result"
    }
   ],
   "source": [
    "lst"
   ]
  },
  {
   "cell_type": "code",
   "execution_count": 44,
   "id": "d2405fff",
   "metadata": {},
   "outputs": [
    {
     "data": {
      "text/plain": [
       "[None, None, None, None, None, None, None, None]"
      ]
     },
     "execution_count": 44,
     "metadata": {},
     "output_type": "execute_result"
    }
   ],
   "source": [
    "x = [1, 4, 6, 5, 3, 1.5, 2.5, 3.5]\n",
    "n = len(x)\n",
    "[None for i in range(n)]"
   ]
  },
  {
   "cell_type": "code",
   "execution_count": 60,
   "id": "00052a1f",
   "metadata": {},
   "outputs": [],
   "source": [
    "import pandas as pd\n",
    "import numpy as np"
   ]
  },
  {
   "cell_type": "code",
   "execution_count": 62,
   "id": "96586f93",
   "metadata": {},
   "outputs": [
    {
     "data": {
      "text/plain": [
       "array([ 0,  1,  2,  3,  4,  5,  6,  7,  8,  9, 10, 11, 12, 13, 14, 15, 16,\n",
       "       17, 18, 19])"
      ]
     },
     "execution_count": 62,
     "metadata": {},
     "output_type": "execute_result"
    }
   ],
   "source": [
    "np.arange(0,20)"
   ]
  },
  {
   "cell_type": "code",
   "execution_count": 63,
   "id": "ffebdae0",
   "metadata": {},
   "outputs": [
    {
     "data": {
      "text/plain": [
       "array([[ 0,  1,  2,  3],\n",
       "       [ 4,  5,  6,  7],\n",
       "       [ 8,  9, 10, 11],\n",
       "       [12, 13, 14, 15],\n",
       "       [16, 17, 18, 19]])"
      ]
     },
     "execution_count": 63,
     "metadata": {},
     "output_type": "execute_result"
    }
   ],
   "source": [
    "np.arange(0,20).reshape(5,4)"
   ]
  },
  {
   "cell_type": "code",
   "execution_count": 65,
   "id": "f9a0352a",
   "metadata": {},
   "outputs": [],
   "source": [
    "data = pd.DataFrame(np.arange(0,20).reshape(5,4),index=['Row1','Row2','Row3','Row4','Row5'],columns=['column1','column2','column3','column4'])"
   ]
  },
  {
   "cell_type": "code",
   "execution_count": 66,
   "id": "a7ada079",
   "metadata": {},
   "outputs": [
    {
     "data": {
      "text/html": [
       "<div>\n",
       "<style scoped>\n",
       "    .dataframe tbody tr th:only-of-type {\n",
       "        vertical-align: middle;\n",
       "    }\n",
       "\n",
       "    .dataframe tbody tr th {\n",
       "        vertical-align: top;\n",
       "    }\n",
       "\n",
       "    .dataframe thead th {\n",
       "        text-align: right;\n",
       "    }\n",
       "</style>\n",
       "<table border=\"1\" class=\"dataframe\">\n",
       "  <thead>\n",
       "    <tr style=\"text-align: right;\">\n",
       "      <th></th>\n",
       "      <th>column1</th>\n",
       "      <th>column2</th>\n",
       "      <th>column3</th>\n",
       "      <th>column4</th>\n",
       "    </tr>\n",
       "  </thead>\n",
       "  <tbody>\n",
       "    <tr>\n",
       "      <th>Row1</th>\n",
       "      <td>0</td>\n",
       "      <td>1</td>\n",
       "      <td>2</td>\n",
       "      <td>3</td>\n",
       "    </tr>\n",
       "    <tr>\n",
       "      <th>Row2</th>\n",
       "      <td>4</td>\n",
       "      <td>5</td>\n",
       "      <td>6</td>\n",
       "      <td>7</td>\n",
       "    </tr>\n",
       "    <tr>\n",
       "      <th>Row3</th>\n",
       "      <td>8</td>\n",
       "      <td>9</td>\n",
       "      <td>10</td>\n",
       "      <td>11</td>\n",
       "    </tr>\n",
       "    <tr>\n",
       "      <th>Row4</th>\n",
       "      <td>12</td>\n",
       "      <td>13</td>\n",
       "      <td>14</td>\n",
       "      <td>15</td>\n",
       "    </tr>\n",
       "    <tr>\n",
       "      <th>Row5</th>\n",
       "      <td>16</td>\n",
       "      <td>17</td>\n",
       "      <td>18</td>\n",
       "      <td>19</td>\n",
       "    </tr>\n",
       "  </tbody>\n",
       "</table>\n",
       "</div>"
      ],
      "text/plain": [
       "      column1  column2  column3  column4\n",
       "Row1        0        1        2        3\n",
       "Row2        4        5        6        7\n",
       "Row3        8        9       10       11\n",
       "Row4       12       13       14       15\n",
       "Row5       16       17       18       19"
      ]
     },
     "execution_count": 66,
     "metadata": {},
     "output_type": "execute_result"
    }
   ],
   "source": [
    "data"
   ]
  },
  {
   "cell_type": "code",
   "execution_count": null,
   "id": "2fd786da",
   "metadata": {},
   "outputs": [],
   "source": [
    "### We can convert this data into excel sheet "
   ]
  },
  {
   "cell_type": "code",
   "execution_count": 70,
   "id": "8052ccae",
   "metadata": {},
   "outputs": [],
   "source": [
    "# csv means data is presented in comma seperated format\n",
    "data.to_csv('test1.csv')"
   ]
  },
  {
   "cell_type": "markdown",
   "id": "28b677f5",
   "metadata": {},
   "source": [
    "### Accessing the elements\n",
    "\n",
    "- .loc  (location) \n",
    "- .iloc (index location)"
   ]
  },
  {
   "cell_type": "code",
   "execution_count": 72,
   "id": "00c8b705",
   "metadata": {},
   "outputs": [
    {
     "data": {
      "text/plain": [
       "column1    0\n",
       "column2    1\n",
       "column3    2\n",
       "column4    3\n",
       "Name: Row1, dtype: int64"
      ]
     },
     "execution_count": 72,
     "metadata": {},
     "output_type": "execute_result"
    }
   ],
   "source": [
    "data.loc['Row1']"
   ]
  },
  {
   "cell_type": "code",
   "execution_count": 73,
   "id": "4eb94cba",
   "metadata": {},
   "outputs": [
    {
     "data": {
      "text/plain": [
       "pandas.core.series.Series"
      ]
     },
     "execution_count": 73,
     "metadata": {},
     "output_type": "execute_result"
    }
   ],
   "source": [
    "type(data.loc['Row1'])"
   ]
  },
  {
   "cell_type": "code",
   "execution_count": 74,
   "id": "ed8616ad",
   "metadata": {},
   "outputs": [
    {
     "data": {
      "text/html": [
       "<div>\n",
       "<style scoped>\n",
       "    .dataframe tbody tr th:only-of-type {\n",
       "        vertical-align: middle;\n",
       "    }\n",
       "\n",
       "    .dataframe tbody tr th {\n",
       "        vertical-align: top;\n",
       "    }\n",
       "\n",
       "    .dataframe thead th {\n",
       "        text-align: right;\n",
       "    }\n",
       "</style>\n",
       "<table border=\"1\" class=\"dataframe\">\n",
       "  <thead>\n",
       "    <tr style=\"text-align: right;\">\n",
       "      <th></th>\n",
       "      <th>column1</th>\n",
       "      <th>column2</th>\n",
       "      <th>column3</th>\n",
       "      <th>column4</th>\n",
       "    </tr>\n",
       "  </thead>\n",
       "  <tbody>\n",
       "    <tr>\n",
       "      <th>Row1</th>\n",
       "      <td>0</td>\n",
       "      <td>1</td>\n",
       "      <td>2</td>\n",
       "      <td>3</td>\n",
       "    </tr>\n",
       "    <tr>\n",
       "      <th>Row2</th>\n",
       "      <td>4</td>\n",
       "      <td>5</td>\n",
       "      <td>6</td>\n",
       "      <td>7</td>\n",
       "    </tr>\n",
       "    <tr>\n",
       "      <th>Row3</th>\n",
       "      <td>8</td>\n",
       "      <td>9</td>\n",
       "      <td>10</td>\n",
       "      <td>11</td>\n",
       "    </tr>\n",
       "    <tr>\n",
       "      <th>Row4</th>\n",
       "      <td>12</td>\n",
       "      <td>13</td>\n",
       "      <td>14</td>\n",
       "      <td>15</td>\n",
       "    </tr>\n",
       "    <tr>\n",
       "      <th>Row5</th>\n",
       "      <td>16</td>\n",
       "      <td>17</td>\n",
       "      <td>18</td>\n",
       "      <td>19</td>\n",
       "    </tr>\n",
       "  </tbody>\n",
       "</table>\n",
       "</div>"
      ],
      "text/plain": [
       "      column1  column2  column3  column4\n",
       "Row1        0        1        2        3\n",
       "Row2        4        5        6        7\n",
       "Row3        8        9       10       11\n",
       "Row4       12       13       14       15\n",
       "Row5       16       17       18       19"
      ]
     },
     "execution_count": 74,
     "metadata": {},
     "output_type": "execute_result"
    }
   ],
   "source": [
    "# retrieve all rows and columns\n",
    "data.iloc[:,:]"
   ]
  },
  {
   "cell_type": "code",
   "execution_count": 76,
   "id": "9edc3df4",
   "metadata": {},
   "outputs": [
    {
     "data": {
      "text/html": [
       "<div>\n",
       "<style scoped>\n",
       "    .dataframe tbody tr th:only-of-type {\n",
       "        vertical-align: middle;\n",
       "    }\n",
       "\n",
       "    .dataframe tbody tr th {\n",
       "        vertical-align: top;\n",
       "    }\n",
       "\n",
       "    .dataframe thead th {\n",
       "        text-align: right;\n",
       "    }\n",
       "</style>\n",
       "<table border=\"1\" class=\"dataframe\">\n",
       "  <thead>\n",
       "    <tr style=\"text-align: right;\">\n",
       "      <th></th>\n",
       "      <th>column2</th>\n",
       "      <th>column3</th>\n",
       "      <th>column4</th>\n",
       "    </tr>\n",
       "  </thead>\n",
       "  <tbody>\n",
       "    <tr>\n",
       "      <th>Row1</th>\n",
       "      <td>1</td>\n",
       "      <td>2</td>\n",
       "      <td>3</td>\n",
       "    </tr>\n",
       "    <tr>\n",
       "      <th>Row2</th>\n",
       "      <td>5</td>\n",
       "      <td>6</td>\n",
       "      <td>7</td>\n",
       "    </tr>\n",
       "    <tr>\n",
       "      <th>Row3</th>\n",
       "      <td>9</td>\n",
       "      <td>10</td>\n",
       "      <td>11</td>\n",
       "    </tr>\n",
       "    <tr>\n",
       "      <th>Row4</th>\n",
       "      <td>13</td>\n",
       "      <td>14</td>\n",
       "      <td>15</td>\n",
       "    </tr>\n",
       "    <tr>\n",
       "      <th>Row5</th>\n",
       "      <td>17</td>\n",
       "      <td>18</td>\n",
       "      <td>19</td>\n",
       "    </tr>\n",
       "  </tbody>\n",
       "</table>\n",
       "</div>"
      ],
      "text/plain": [
       "      column2  column3  column4\n",
       "Row1        1        2        3\n",
       "Row2        5        6        7\n",
       "Row3        9       10       11\n",
       "Row4       13       14       15\n",
       "Row5       17       18       19"
      ]
     },
     "execution_count": 76,
     "metadata": {},
     "output_type": "execute_result"
    }
   ],
   "source": [
    "# remove column 1 \n",
    "data.iloc[:,1:]"
   ]
  },
  {
   "cell_type": "code",
   "execution_count": 77,
   "id": "2961ece7",
   "metadata": {},
   "outputs": [
    {
     "data": {
      "text/html": [
       "<div>\n",
       "<style scoped>\n",
       "    .dataframe tbody tr th:only-of-type {\n",
       "        vertical-align: middle;\n",
       "    }\n",
       "\n",
       "    .dataframe tbody tr th {\n",
       "        vertical-align: top;\n",
       "    }\n",
       "\n",
       "    .dataframe thead th {\n",
       "        text-align: right;\n",
       "    }\n",
       "</style>\n",
       "<table border=\"1\" class=\"dataframe\">\n",
       "  <thead>\n",
       "    <tr style=\"text-align: right;\">\n",
       "      <th></th>\n",
       "      <th>column1</th>\n",
       "      <th>column2</th>\n",
       "    </tr>\n",
       "  </thead>\n",
       "  <tbody>\n",
       "    <tr>\n",
       "      <th>Row1</th>\n",
       "      <td>0</td>\n",
       "      <td>1</td>\n",
       "    </tr>\n",
       "    <tr>\n",
       "      <th>Row2</th>\n",
       "      <td>4</td>\n",
       "      <td>5</td>\n",
       "    </tr>\n",
       "    <tr>\n",
       "      <th>Row3</th>\n",
       "      <td>8</td>\n",
       "      <td>9</td>\n",
       "    </tr>\n",
       "  </tbody>\n",
       "</table>\n",
       "</div>"
      ],
      "text/plain": [
       "      column1  column2\n",
       "Row1        0        1\n",
       "Row2        4        5\n",
       "Row3        8        9"
      ]
     },
     "execution_count": 77,
     "metadata": {},
     "output_type": "execute_result"
    }
   ],
   "source": [
    "# if you need 3 rows and 2 columns\n",
    "\n",
    "data.iloc[0:3,0:2]"
   ]
  },
  {
   "cell_type": "code",
   "execution_count": 81,
   "id": "f72dec3e",
   "metadata": {},
   "outputs": [],
   "source": [
    "data1 = data.iloc[:,:].values"
   ]
  },
  {
   "cell_type": "code",
   "execution_count": 82,
   "id": "2852204c",
   "metadata": {},
   "outputs": [
    {
     "data": {
      "text/plain": [
       "array([[ 0,  1,  2,  3],\n",
       "       [ 4,  5,  6,  7],\n",
       "       [ 8,  9, 10, 11],\n",
       "       [12, 13, 14, 15],\n",
       "       [16, 17, 18, 19]])"
      ]
     },
     "execution_count": 82,
     "metadata": {},
     "output_type": "execute_result"
    }
   ],
   "source": [
    "data1"
   ]
  },
  {
   "cell_type": "code",
   "execution_count": 83,
   "id": "8c465e39",
   "metadata": {},
   "outputs": [
    {
     "data": {
      "text/plain": [
       "numpy.ndarray"
      ]
     },
     "execution_count": 83,
     "metadata": {},
     "output_type": "execute_result"
    }
   ],
   "source": [
    "type(data1)"
   ]
  },
  {
   "cell_type": "code",
   "execution_count": 84,
   "id": "3ae78593",
   "metadata": {},
   "outputs": [
    {
     "data": {
      "text/plain": [
       "column1    0\n",
       "column2    0\n",
       "column3    0\n",
       "column4    0\n",
       "dtype: int64"
      ]
     },
     "execution_count": 84,
     "metadata": {},
     "output_type": "execute_result"
    }
   ],
   "source": [
    "data.isnull().sum()"
   ]
  },
  {
   "cell_type": "code",
   "execution_count": 87,
   "id": "74f2b053",
   "metadata": {},
   "outputs": [
    {
     "data": {
      "text/plain": [
       "0     1\n",
       "4     1\n",
       "8     1\n",
       "12    1\n",
       "16    1\n",
       "Name: column1, dtype: int64"
      ]
     },
     "execution_count": 87,
     "metadata": {},
     "output_type": "execute_result"
    }
   ],
   "source": [
    "data['column1'].value_counts()"
   ]
  },
  {
   "cell_type": "code",
   "execution_count": 88,
   "id": "ab5001fd",
   "metadata": {},
   "outputs": [
    {
     "data": {
      "text/plain": [
       "0"
      ]
     },
     "execution_count": 88,
     "metadata": {},
     "output_type": "execute_result"
    }
   ],
   "source": [
    "data1[0][0]"
   ]
  },
  {
   "cell_type": "code",
   "execution_count": 89,
   "id": "e0669725",
   "metadata": {},
   "outputs": [
    {
     "data": {
      "text/plain": [
       "4"
      ]
     },
     "execution_count": 89,
     "metadata": {},
     "output_type": "execute_result"
    }
   ],
   "source": [
    "data1[1][0]"
   ]
  },
  {
   "cell_type": "code",
   "execution_count": 97,
   "id": "52a2cb6d",
   "metadata": {},
   "outputs": [
    {
     "name": "stdout",
     "output_type": "stream",
     "text": [
      "0\n",
      "4\n",
      "8\n",
      "12\n",
      "16\n"
     ]
    }
   ],
   "source": [
    "num = len(data1)\n",
    "for i in range(num):\n",
    "    print(data1[i][0])"
   ]
  }
 ],
 "metadata": {
  "kernelspec": {
   "display_name": "Python 3 (ipykernel)",
   "language": "python",
   "name": "python3"
  },
  "language_info": {
   "codemirror_mode": {
    "name": "ipython",
    "version": 3
   },
   "file_extension": ".py",
   "mimetype": "text/x-python",
   "name": "python",
   "nbconvert_exporter": "python",
   "pygments_lexer": "ipython3",
   "version": "3.9.7"
  }
 },
 "nbformat": 4,
 "nbformat_minor": 5
}
